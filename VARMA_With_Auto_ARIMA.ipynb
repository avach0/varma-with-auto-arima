{
  "nbformat": 4,
  "nbformat_minor": 0,
  "metadata": {
    "colab": {
      "provenance": [],
      "toc_visible": true,
      "include_colab_link": true
    },
    "kernelspec": {
      "name": "python3",
      "display_name": "Python 3"
    },
    "language_info": {
      "name": "python"
    }
  },
  "cells": [
    {
      "cell_type": "markdown",
      "metadata": {
        "id": "view-in-github",
        "colab_type": "text"
      },
      "source": [
        "<a href=\"https://colab.research.google.com/github/avach0/varma-with-auto-arima/blob/main/VARMA_With_Auto_ARIMA.ipynb\" target=\"_parent\"><img src=\"https://colab.research.google.com/assets/colab-badge.svg\" alt=\"Open In Colab\"/></a>"
      ]
    },
    {
      "cell_type": "markdown",
      "source": [
        "## Setup\n",
        "<font color='red'>Note:</font> Due to technical difficulties the older verion of the notebook was removed. Here is the updated version."
      ],
      "metadata": {
        "id": "E-aDUVUb8PWi"
      }
    },
    {
      "cell_type": "markdown",
      "source": [
        "###Installing dependencies and prerequisites"
      ],
      "metadata": {
        "id": "dfoiPqtb8RmB"
      }
    },
    {
      "cell_type": "code",
      "source": [
        "!pip install pmdarima"
      ],
      "metadata": {
        "colab": {
          "base_uri": "https://localhost:8080/"
        },
        "id": "d-6LezksBqJM",
        "outputId": "f8bd2488-6cdb-4204-b6eb-dd2ce409d6e0"
      },
      "execution_count": null,
      "outputs": [
        {
          "output_type": "stream",
          "name": "stdout",
          "text": [
            "Looking in indexes: https://pypi.org/simple, https://us-python.pkg.dev/colab-wheels/public/simple/\n",
            "Collecting pmdarima\n",
            "  Downloading pmdarima-2.0.3-cp310-cp310-manylinux_2_17_x86_64.manylinux2014_x86_64.manylinux_2_28_x86_64.whl (1.8 MB)\n",
            "\u001b[2K     \u001b[90m━━━━━━━━━━━━━━━━━━━━━━━━━━━━━━━━━━━━━━━━\u001b[0m \u001b[32m1.8/1.8 MB\u001b[0m \u001b[31m41.9 MB/s\u001b[0m eta \u001b[36m0:00:00\u001b[0m\n",
            "\u001b[?25hRequirement already satisfied: joblib>=0.11 in /usr/local/lib/python3.10/dist-packages (from pmdarima) (1.2.0)\n",
            "Requirement already satisfied: Cython!=0.29.18,!=0.29.31,>=0.29 in /usr/local/lib/python3.10/dist-packages (from pmdarima) (0.29.34)\n",
            "Requirement already satisfied: numpy>=1.21.2 in /usr/local/lib/python3.10/dist-packages (from pmdarima) (1.22.4)\n",
            "Requirement already satisfied: pandas>=0.19 in /usr/local/lib/python3.10/dist-packages (from pmdarima) (1.5.3)\n",
            "Requirement already satisfied: scikit-learn>=0.22 in /usr/local/lib/python3.10/dist-packages (from pmdarima) (1.2.2)\n",
            "Requirement already satisfied: scipy>=1.3.2 in /usr/local/lib/python3.10/dist-packages (from pmdarima) (1.10.1)\n",
            "Requirement already satisfied: statsmodels>=0.13.2 in /usr/local/lib/python3.10/dist-packages (from pmdarima) (0.13.5)\n",
            "Requirement already satisfied: urllib3 in /usr/local/lib/python3.10/dist-packages (from pmdarima) (1.26.15)\n",
            "Requirement already satisfied: setuptools!=50.0.0,>=38.6.0 in /usr/local/lib/python3.10/dist-packages (from pmdarima) (67.7.2)\n",
            "Requirement already satisfied: python-dateutil>=2.8.1 in /usr/local/lib/python3.10/dist-packages (from pandas>=0.19->pmdarima) (2.8.2)\n",
            "Requirement already satisfied: pytz>=2020.1 in /usr/local/lib/python3.10/dist-packages (from pandas>=0.19->pmdarima) (2022.7.1)\n",
            "Requirement already satisfied: threadpoolctl>=2.0.0 in /usr/local/lib/python3.10/dist-packages (from scikit-learn>=0.22->pmdarima) (3.1.0)\n",
            "Requirement already satisfied: patsy>=0.5.2 in /usr/local/lib/python3.10/dist-packages (from statsmodels>=0.13.2->pmdarima) (0.5.3)\n",
            "Requirement already satisfied: packaging>=21.3 in /usr/local/lib/python3.10/dist-packages (from statsmodels>=0.13.2->pmdarima) (23.1)\n",
            "Requirement already satisfied: six in /usr/local/lib/python3.10/dist-packages (from patsy>=0.5.2->statsmodels>=0.13.2->pmdarima) (1.16.0)\n",
            "Installing collected packages: pmdarima\n",
            "Successfully installed pmdarima-2.0.3\n"
          ]
        }
      ]
    },
    {
      "cell_type": "markdown",
      "source": [
        "### Importing dependencies and prerequisites"
      ],
      "metadata": {
        "id": "fZ-Xo5l38Zet"
      }
    },
    {
      "cell_type": "code",
      "execution_count": null,
      "metadata": {
        "id": "TVAaGuN3zlz-"
      },
      "outputs": [],
      "source": [
        "import pandas as pd\n",
        "import matplotlib.pyplot as plt\n",
        "from statsmodels.tsa.statespace.varmax import VARMAX\n",
        "import numpy as np\n",
        "from statsmodels.tsa.stattools import adfuller\n",
        "from statsmodels.tsa.vector_ar.vecm import coint_johansen\n",
        "from sklearn.model_selection import GridSearchCV,train_test_split\n",
        "from sklearn.metrics import mean_squared_error\n",
        "from sklearn import metrics\n",
        "from timeit import default_timer as timer\n",
        "from pmdarima import auto_arima\n",
        "import warnings\n",
        "warnings.filterwarnings(\"ignore\")"
      ]
    },
    {
      "cell_type": "markdown",
      "source": [
        "### Connecting to the drive"
      ],
      "metadata": {
        "id": "Rt61fDLo8gmt"
      }
    },
    {
      "cell_type": "code",
      "source": [
        "from google.colab import drive\n",
        "drive.mount(\"/content/gDrive\")"
      ],
      "metadata": {
        "colab": {
          "base_uri": "https://localhost:8080/"
        },
        "id": "Ty7G7LEsz0NS",
        "outputId": "8b116f9b-9e36-41c5-8526-03d2d5dda7d0"
      },
      "execution_count": null,
      "outputs": [
        {
          "output_type": "stream",
          "name": "stdout",
          "text": [
            "Mounted at /content/gDrive\n"
          ]
        }
      ]
    },
    {
      "cell_type": "markdown",
      "source": [
        "## Reading the data"
      ],
      "metadata": {
        "id": "Uxkq_MFA8uMb"
      }
    },
    {
      "cell_type": "code",
      "source": [
        "path=\"/content/gDrive/MyDrive/Datasets/Download Data - INDEX_US_DOW JONES GLOBAL_DJIA_2019.csv\"\n",
        "data=pd.read_csv(path)\n",
        "data[:5]"
      ],
      "metadata": {
        "colab": {
          "base_uri": "https://localhost:8080/",
          "height": 206
        },
        "id": "DKRIpGNc0ara",
        "outputId": "55c0e004-805c-4fc2-d291-54d0a3bfe7e5"
      },
      "execution_count": null,
      "outputs": [
        {
          "output_type": "execute_result",
          "data": {
            "text/plain": [
              "         Date       Open       High        Low      Close\n",
              "0  12/31/2019  28,414.64  28,547.35  28,376.49  28,538.44\n",
              "1  12/30/2019  28,654.76  28,664.69  28,428.98  28,462.14\n",
              "2  12/27/2019  28,675.34  28,701.66  28,608.98  28,645.26\n",
              "3  12/26/2019  28,539.46  28,624.10  28,535.15  28,621.39\n",
              "4  12/24/2019  28,572.57  28,576.80  28,503.21  28,515.45"
            ],
            "text/html": [
              "\n",
              "  <div id=\"df-d430583d-4bde-47fe-b315-90cc855aa39a\">\n",
              "    <div class=\"colab-df-container\">\n",
              "      <div>\n",
              "<style scoped>\n",
              "    .dataframe tbody tr th:only-of-type {\n",
              "        vertical-align: middle;\n",
              "    }\n",
              "\n",
              "    .dataframe tbody tr th {\n",
              "        vertical-align: top;\n",
              "    }\n",
              "\n",
              "    .dataframe thead th {\n",
              "        text-align: right;\n",
              "    }\n",
              "</style>\n",
              "<table border=\"1\" class=\"dataframe\">\n",
              "  <thead>\n",
              "    <tr style=\"text-align: right;\">\n",
              "      <th></th>\n",
              "      <th>Date</th>\n",
              "      <th>Open</th>\n",
              "      <th>High</th>\n",
              "      <th>Low</th>\n",
              "      <th>Close</th>\n",
              "    </tr>\n",
              "  </thead>\n",
              "  <tbody>\n",
              "    <tr>\n",
              "      <th>0</th>\n",
              "      <td>12/31/2019</td>\n",
              "      <td>28,414.64</td>\n",
              "      <td>28,547.35</td>\n",
              "      <td>28,376.49</td>\n",
              "      <td>28,538.44</td>\n",
              "    </tr>\n",
              "    <tr>\n",
              "      <th>1</th>\n",
              "      <td>12/30/2019</td>\n",
              "      <td>28,654.76</td>\n",
              "      <td>28,664.69</td>\n",
              "      <td>28,428.98</td>\n",
              "      <td>28,462.14</td>\n",
              "    </tr>\n",
              "    <tr>\n",
              "      <th>2</th>\n",
              "      <td>12/27/2019</td>\n",
              "      <td>28,675.34</td>\n",
              "      <td>28,701.66</td>\n",
              "      <td>28,608.98</td>\n",
              "      <td>28,645.26</td>\n",
              "    </tr>\n",
              "    <tr>\n",
              "      <th>3</th>\n",
              "      <td>12/26/2019</td>\n",
              "      <td>28,539.46</td>\n",
              "      <td>28,624.10</td>\n",
              "      <td>28,535.15</td>\n",
              "      <td>28,621.39</td>\n",
              "    </tr>\n",
              "    <tr>\n",
              "      <th>4</th>\n",
              "      <td>12/24/2019</td>\n",
              "      <td>28,572.57</td>\n",
              "      <td>28,576.80</td>\n",
              "      <td>28,503.21</td>\n",
              "      <td>28,515.45</td>\n",
              "    </tr>\n",
              "  </tbody>\n",
              "</table>\n",
              "</div>\n",
              "      <button class=\"colab-df-convert\" onclick=\"convertToInteractive('df-d430583d-4bde-47fe-b315-90cc855aa39a')\"\n",
              "              title=\"Convert this dataframe to an interactive table.\"\n",
              "              style=\"display:none;\">\n",
              "        \n",
              "  <svg xmlns=\"http://www.w3.org/2000/svg\" height=\"24px\"viewBox=\"0 0 24 24\"\n",
              "       width=\"24px\">\n",
              "    <path d=\"M0 0h24v24H0V0z\" fill=\"none\"/>\n",
              "    <path d=\"M18.56 5.44l.94 2.06.94-2.06 2.06-.94-2.06-.94-.94-2.06-.94 2.06-2.06.94zm-11 1L8.5 8.5l.94-2.06 2.06-.94-2.06-.94L8.5 2.5l-.94 2.06-2.06.94zm10 10l.94 2.06.94-2.06 2.06-.94-2.06-.94-.94-2.06-.94 2.06-2.06.94z\"/><path d=\"M17.41 7.96l-1.37-1.37c-.4-.4-.92-.59-1.43-.59-.52 0-1.04.2-1.43.59L10.3 9.45l-7.72 7.72c-.78.78-.78 2.05 0 2.83L4 21.41c.39.39.9.59 1.41.59.51 0 1.02-.2 1.41-.59l7.78-7.78 2.81-2.81c.8-.78.8-2.07 0-2.86zM5.41 20L4 18.59l7.72-7.72 1.47 1.35L5.41 20z\"/>\n",
              "  </svg>\n",
              "      </button>\n",
              "      \n",
              "  <style>\n",
              "    .colab-df-container {\n",
              "      display:flex;\n",
              "      flex-wrap:wrap;\n",
              "      gap: 12px;\n",
              "    }\n",
              "\n",
              "    .colab-df-convert {\n",
              "      background-color: #E8F0FE;\n",
              "      border: none;\n",
              "      border-radius: 50%;\n",
              "      cursor: pointer;\n",
              "      display: none;\n",
              "      fill: #1967D2;\n",
              "      height: 32px;\n",
              "      padding: 0 0 0 0;\n",
              "      width: 32px;\n",
              "    }\n",
              "\n",
              "    .colab-df-convert:hover {\n",
              "      background-color: #E2EBFA;\n",
              "      box-shadow: 0px 1px 2px rgba(60, 64, 67, 0.3), 0px 1px 3px 1px rgba(60, 64, 67, 0.15);\n",
              "      fill: #174EA6;\n",
              "    }\n",
              "\n",
              "    [theme=dark] .colab-df-convert {\n",
              "      background-color: #3B4455;\n",
              "      fill: #D2E3FC;\n",
              "    }\n",
              "\n",
              "    [theme=dark] .colab-df-convert:hover {\n",
              "      background-color: #434B5C;\n",
              "      box-shadow: 0px 1px 3px 1px rgba(0, 0, 0, 0.15);\n",
              "      filter: drop-shadow(0px 1px 2px rgba(0, 0, 0, 0.3));\n",
              "      fill: #FFFFFF;\n",
              "    }\n",
              "  </style>\n",
              "\n",
              "      <script>\n",
              "        const buttonEl =\n",
              "          document.querySelector('#df-d430583d-4bde-47fe-b315-90cc855aa39a button.colab-df-convert');\n",
              "        buttonEl.style.display =\n",
              "          google.colab.kernel.accessAllowed ? 'block' : 'none';\n",
              "\n",
              "        async function convertToInteractive(key) {\n",
              "          const element = document.querySelector('#df-d430583d-4bde-47fe-b315-90cc855aa39a');\n",
              "          const dataTable =\n",
              "            await google.colab.kernel.invokeFunction('convertToInteractive',\n",
              "                                                     [key], {});\n",
              "          if (!dataTable) return;\n",
              "\n",
              "          const docLinkHtml = 'Like what you see? Visit the ' +\n",
              "            '<a target=\"_blank\" href=https://colab.research.google.com/notebooks/data_table.ipynb>data table notebook</a>'\n",
              "            + ' to learn more about interactive tables.';\n",
              "          element.innerHTML = '';\n",
              "          dataTable['output_type'] = 'display_data';\n",
              "          await google.colab.output.renderOutput(dataTable, element);\n",
              "          const docLink = document.createElement('div');\n",
              "          docLink.innerHTML = docLinkHtml;\n",
              "          element.appendChild(docLink);\n",
              "        }\n",
              "      </script>\n",
              "    </div>\n",
              "  </div>\n",
              "  "
            ]
          },
          "metadata": {},
          "execution_count": 4
        }
      ]
    },
    {
      "cell_type": "markdown",
      "source": [
        "## Preprocessing"
      ],
      "metadata": {
        "id": "0fVzeu_r8xle"
      }
    },
    {
      "cell_type": "code",
      "source": [
        "df = data.replace(',', '', regex=True)"
      ],
      "metadata": {
        "id": "AfGCH-yS2Wef"
      },
      "execution_count": null,
      "outputs": []
    },
    {
      "cell_type": "code",
      "source": [
        "df[:5]"
      ],
      "metadata": {
        "colab": {
          "base_uri": "https://localhost:8080/",
          "height": 206
        },
        "id": "WG7S9dzF2bb7",
        "outputId": "d6e29333-e0ef-4f60-f118-54d103c7c316"
      },
      "execution_count": null,
      "outputs": [
        {
          "output_type": "execute_result",
          "data": {
            "text/plain": [
              "         Date      Open      High       Low     Close\n",
              "0  12/31/2019  28414.64  28547.35  28376.49  28538.44\n",
              "1  12/30/2019  28654.76  28664.69  28428.98  28462.14\n",
              "2  12/27/2019  28675.34  28701.66  28608.98  28645.26\n",
              "3  12/26/2019  28539.46  28624.10  28535.15  28621.39\n",
              "4  12/24/2019  28572.57  28576.80  28503.21  28515.45"
            ],
            "text/html": [
              "\n",
              "  <div id=\"df-694f83b6-bb67-4bd0-b949-8416bb7c7a13\">\n",
              "    <div class=\"colab-df-container\">\n",
              "      <div>\n",
              "<style scoped>\n",
              "    .dataframe tbody tr th:only-of-type {\n",
              "        vertical-align: middle;\n",
              "    }\n",
              "\n",
              "    .dataframe tbody tr th {\n",
              "        vertical-align: top;\n",
              "    }\n",
              "\n",
              "    .dataframe thead th {\n",
              "        text-align: right;\n",
              "    }\n",
              "</style>\n",
              "<table border=\"1\" class=\"dataframe\">\n",
              "  <thead>\n",
              "    <tr style=\"text-align: right;\">\n",
              "      <th></th>\n",
              "      <th>Date</th>\n",
              "      <th>Open</th>\n",
              "      <th>High</th>\n",
              "      <th>Low</th>\n",
              "      <th>Close</th>\n",
              "    </tr>\n",
              "  </thead>\n",
              "  <tbody>\n",
              "    <tr>\n",
              "      <th>0</th>\n",
              "      <td>12/31/2019</td>\n",
              "      <td>28414.64</td>\n",
              "      <td>28547.35</td>\n",
              "      <td>28376.49</td>\n",
              "      <td>28538.44</td>\n",
              "    </tr>\n",
              "    <tr>\n",
              "      <th>1</th>\n",
              "      <td>12/30/2019</td>\n",
              "      <td>28654.76</td>\n",
              "      <td>28664.69</td>\n",
              "      <td>28428.98</td>\n",
              "      <td>28462.14</td>\n",
              "    </tr>\n",
              "    <tr>\n",
              "      <th>2</th>\n",
              "      <td>12/27/2019</td>\n",
              "      <td>28675.34</td>\n",
              "      <td>28701.66</td>\n",
              "      <td>28608.98</td>\n",
              "      <td>28645.26</td>\n",
              "    </tr>\n",
              "    <tr>\n",
              "      <th>3</th>\n",
              "      <td>12/26/2019</td>\n",
              "      <td>28539.46</td>\n",
              "      <td>28624.10</td>\n",
              "      <td>28535.15</td>\n",
              "      <td>28621.39</td>\n",
              "    </tr>\n",
              "    <tr>\n",
              "      <th>4</th>\n",
              "      <td>12/24/2019</td>\n",
              "      <td>28572.57</td>\n",
              "      <td>28576.80</td>\n",
              "      <td>28503.21</td>\n",
              "      <td>28515.45</td>\n",
              "    </tr>\n",
              "  </tbody>\n",
              "</table>\n",
              "</div>\n",
              "      <button class=\"colab-df-convert\" onclick=\"convertToInteractive('df-694f83b6-bb67-4bd0-b949-8416bb7c7a13')\"\n",
              "              title=\"Convert this dataframe to an interactive table.\"\n",
              "              style=\"display:none;\">\n",
              "        \n",
              "  <svg xmlns=\"http://www.w3.org/2000/svg\" height=\"24px\"viewBox=\"0 0 24 24\"\n",
              "       width=\"24px\">\n",
              "    <path d=\"M0 0h24v24H0V0z\" fill=\"none\"/>\n",
              "    <path d=\"M18.56 5.44l.94 2.06.94-2.06 2.06-.94-2.06-.94-.94-2.06-.94 2.06-2.06.94zm-11 1L8.5 8.5l.94-2.06 2.06-.94-2.06-.94L8.5 2.5l-.94 2.06-2.06.94zm10 10l.94 2.06.94-2.06 2.06-.94-2.06-.94-.94-2.06-.94 2.06-2.06.94z\"/><path d=\"M17.41 7.96l-1.37-1.37c-.4-.4-.92-.59-1.43-.59-.52 0-1.04.2-1.43.59L10.3 9.45l-7.72 7.72c-.78.78-.78 2.05 0 2.83L4 21.41c.39.39.9.59 1.41.59.51 0 1.02-.2 1.41-.59l7.78-7.78 2.81-2.81c.8-.78.8-2.07 0-2.86zM5.41 20L4 18.59l7.72-7.72 1.47 1.35L5.41 20z\"/>\n",
              "  </svg>\n",
              "      </button>\n",
              "      \n",
              "  <style>\n",
              "    .colab-df-container {\n",
              "      display:flex;\n",
              "      flex-wrap:wrap;\n",
              "      gap: 12px;\n",
              "    }\n",
              "\n",
              "    .colab-df-convert {\n",
              "      background-color: #E8F0FE;\n",
              "      border: none;\n",
              "      border-radius: 50%;\n",
              "      cursor: pointer;\n",
              "      display: none;\n",
              "      fill: #1967D2;\n",
              "      height: 32px;\n",
              "      padding: 0 0 0 0;\n",
              "      width: 32px;\n",
              "    }\n",
              "\n",
              "    .colab-df-convert:hover {\n",
              "      background-color: #E2EBFA;\n",
              "      box-shadow: 0px 1px 2px rgba(60, 64, 67, 0.3), 0px 1px 3px 1px rgba(60, 64, 67, 0.15);\n",
              "      fill: #174EA6;\n",
              "    }\n",
              "\n",
              "    [theme=dark] .colab-df-convert {\n",
              "      background-color: #3B4455;\n",
              "      fill: #D2E3FC;\n",
              "    }\n",
              "\n",
              "    [theme=dark] .colab-df-convert:hover {\n",
              "      background-color: #434B5C;\n",
              "      box-shadow: 0px 1px 3px 1px rgba(0, 0, 0, 0.15);\n",
              "      filter: drop-shadow(0px 1px 2px rgba(0, 0, 0, 0.3));\n",
              "      fill: #FFFFFF;\n",
              "    }\n",
              "  </style>\n",
              "\n",
              "      <script>\n",
              "        const buttonEl =\n",
              "          document.querySelector('#df-694f83b6-bb67-4bd0-b949-8416bb7c7a13 button.colab-df-convert');\n",
              "        buttonEl.style.display =\n",
              "          google.colab.kernel.accessAllowed ? 'block' : 'none';\n",
              "\n",
              "        async function convertToInteractive(key) {\n",
              "          const element = document.querySelector('#df-694f83b6-bb67-4bd0-b949-8416bb7c7a13');\n",
              "          const dataTable =\n",
              "            await google.colab.kernel.invokeFunction('convertToInteractive',\n",
              "                                                     [key], {});\n",
              "          if (!dataTable) return;\n",
              "\n",
              "          const docLinkHtml = 'Like what you see? Visit the ' +\n",
              "            '<a target=\"_blank\" href=https://colab.research.google.com/notebooks/data_table.ipynb>data table notebook</a>'\n",
              "            + ' to learn more about interactive tables.';\n",
              "          element.innerHTML = '';\n",
              "          dataTable['output_type'] = 'display_data';\n",
              "          await google.colab.output.renderOutput(dataTable, element);\n",
              "          const docLink = document.createElement('div');\n",
              "          docLink.innerHTML = docLinkHtml;\n",
              "          element.appendChild(docLink);\n",
              "        }\n",
              "      </script>\n",
              "    </div>\n",
              "  </div>\n",
              "  "
            ]
          },
          "metadata": {},
          "execution_count": 6
        }
      ]
    },
    {
      "cell_type": "code",
      "source": [
        "df[['Open', 'High', 'Low', 'Close']] = df[['Open', 'High', 'Low', 'Close']].astype(float)"
      ],
      "metadata": {
        "id": "sx4sjG7114ub"
      },
      "execution_count": null,
      "outputs": []
    },
    {
      "cell_type": "code",
      "source": [
        "df['Date'] = pd.to_datetime(df['Date'])\n",
        "\n",
        "# Step 3: Create the plot\n",
        "plt.plot(df['Date'], df['Close'])\n",
        "\n",
        "# Step 4: Customize the plot (optional)\n",
        "plt.xlabel('Date')\n",
        "plt.ylabel('Closing Price')\n",
        "plt.title('Time Series Data')\n",
        "plt.grid(True)\n",
        "\n",
        "# Step 5: Display the plot\n",
        "plt.show()"
      ],
      "metadata": {
        "colab": {
          "base_uri": "https://localhost:8080/",
          "height": 472
        },
        "id": "iyaJcCrdk5ew",
        "outputId": "44b63aa9-fa9f-4a13-9cdc-9ba56f9b6991"
      },
      "execution_count": null,
      "outputs": [
        {
          "output_type": "display_data",
          "data": {
            "text/plain": [
              "<Figure size 640x480 with 1 Axes>"
            ],
            "image/png": "[encoded data removed]"
          },
          "metadata": {}
        }
      ]
    },
    {
      "cell_type": "code",
      "source": [
        "df.info()"
      ],
      "metadata": {
        "colab": {
          "base_uri": "https://localhost:8080/"
        },
        "id": "jz5icF5T20Vs",
        "outputId": "90d2c38e-5926-4924-ce50-608458c20625"
      },
      "execution_count": null,
      "outputs": [
        {
          "output_type": "stream",
          "name": "stdout",
          "text": [
            "<class 'pandas.core.frame.DataFrame'>\n",
            "RangeIndex: 252 entries, 0 to 251\n",
            "Data columns (total 5 columns):\n",
            " #   Column  Non-Null Count  Dtype         \n",
            "---  ------  --------------  -----         \n",
            " 0   Date    252 non-null    datetime64[ns]\n",
            " 1   Open    252 non-null    float64       \n",
            " 2   High    252 non-null    float64       \n",
            " 3   Low     252 non-null    float64       \n",
            " 4   Close   252 non-null    float64       \n",
            "dtypes: datetime64[ns](1), float64(4)\n",
            "memory usage: 10.0 KB\n"
          ]
        }
      ]
    },
    {
      "cell_type": "markdown",
      "source": [
        "## Checking the stationarity of the data"
      ],
      "metadata": {
        "id": "0bqY_jeG84S3"
      }
    },
    {
      "cell_type": "markdown",
      "source": [
        "#####***Open***"
      ],
      "metadata": {
        "id": "jLc0aBZg9Gl-"
      }
    },
    {
      "cell_type": "code",
      "source": [
        "result = adfuller(df['Open'].values)\n",
        "#Extracting the values from the results:\n",
        "print(\"Dickey-Fuller test for feature:Open\")\n",
        "\n",
        "print('Test Statistic: %f' % result[0])\n",
        "\n",
        "print('p-value: %f' % result[1])\n",
        "\n",
        "print('Critical Values:')\n",
        "\n",
        "for key, value in result[4].items():\n",
        "    print('\\t%s: %.3f' % (key, value))\n",
        "if result[0] < result[4][\"5%\"]:\n",
        "    print (\"Reject H0 - Time Series is Stationary\")\n",
        "else:\n",
        "    print (\"Failed to Reject H0 - Time Series is Non-Stationary\")"
      ],
      "metadata": {
        "colab": {
          "base_uri": "https://localhost:8080/"
        },
        "id": "s9gdR4eH0ygk",
        "outputId": "e2f23259-c98d-4afa-88ca-7b626c360f83"
      },
      "execution_count": null,
      "outputs": [
        {
          "output_type": "stream",
          "name": "stdout",
          "text": [
            "Dickey-Fuller test for feature:Open\n",
            "Test Statistic: -0.174606\n",
            "p-value: 0.941482\n",
            "Critical Values:\n",
            "\t1%: -3.457\n",
            "\t5%: -2.873\n",
            "\t10%: -2.573\n",
            "Failed to Reject H0 - Time Series is Non-Stationary\n"
          ]
        }
      ]
    },
    {
      "cell_type": "markdown",
      "source": [
        "#####***High***"
      ],
      "metadata": {
        "id": "EkSBcICN9MOV"
      }
    },
    {
      "cell_type": "code",
      "source": [
        "result = adfuller(df['High'].values)\n",
        "#Extracting the values from the results:\n",
        "print(\"Dickey-Fuller test for feature:High\")\n",
        "\n",
        "print('Test Statistic: %f' % result[0])\n",
        "\n",
        "print('p-value: %f' % result[1])\n",
        "\n",
        "print('Critical Values:')\n",
        "\n",
        "for key, value in result[4].items():\n",
        "    print('\\t%s: %.3f' % (key, value))\n",
        "if result[0] < result[4][\"5%\"]:\n",
        "    print (\"Reject H0 - Time Series is Stationary\")\n",
        "else:\n",
        "    print (\"Failed to Reject H0 - Time Series is Non-Stationary\")"
      ],
      "metadata": {
        "colab": {
          "base_uri": "https://localhost:8080/"
        },
        "id": "5q6LUyZ71yq9",
        "outputId": "dc704e0d-8f26-49af-bac0-f21a1a0c8861"
      },
      "execution_count": null,
      "outputs": [
        {
          "output_type": "stream",
          "name": "stdout",
          "text": [
            "Dickey-Fuller test for feature:High\n",
            "Test Statistic: -0.428596\n",
            "p-value: 0.905214\n",
            "Critical Values:\n",
            "\t1%: -3.457\n",
            "\t5%: -2.873\n",
            "\t10%: -2.573\n",
            "Failed to Reject H0 - Time Series is Non-Stationary\n"
          ]
        }
      ]
    },
    {
      "cell_type": "markdown",
      "source": [
        "#####***Low***"
      ],
      "metadata": {
        "id": "PBEFjDqW9OEH"
      }
    },
    {
      "cell_type": "code",
      "source": [
        "result = adfuller(df['Low'].values)\n",
        "#Extracting the values from the results:\n",
        "print(\"Dickey-Fuller test for feature:Low\")\n",
        "\n",
        "print('Test Statistic: %f' % result[0])\n",
        "\n",
        "print('p-value: %f' % result[1])\n",
        "\n",
        "print('Critical Values:')\n",
        "\n",
        "for key, value in result[4].items():\n",
        "    print('\\t%s: %.3f' % (key, value))\n",
        "if result[0] < result[4][\"5%\"]:\n",
        "    print (\"Reject H0 - Time Series is Stationary\")\n",
        "else:\n",
        "    print (\"Failed to Reject H0 - Time Series is Non-Stationary\")"
      ],
      "metadata": {
        "colab": {
          "base_uri": "https://localhost:8080/"
        },
        "id": "sZzwyPLE6kei",
        "outputId": "1ed03265-bcce-43c5-bf71-15a525dc6413"
      },
      "execution_count": null,
      "outputs": [
        {
          "output_type": "stream",
          "name": "stdout",
          "text": [
            "Dickey-Fuller test for feature:Low\n",
            "Test Statistic: -0.428847\n",
            "p-value: 0.905170\n",
            "Critical Values:\n",
            "\t1%: -3.457\n",
            "\t5%: -2.873\n",
            "\t10%: -2.573\n",
            "Failed to Reject H0 - Time Series is Non-Stationary\n"
          ]
        }
      ]
    },
    {
      "cell_type": "markdown",
      "source": [
        "#####***Close***"
      ],
      "metadata": {
        "id": "hXBsmGBE9Pzd"
      }
    },
    {
      "cell_type": "code",
      "source": [
        "result = adfuller(df['Close'].values)\n",
        "#Extracting the values from the results:\n",
        "print(\"Dickey-Fuller test for feature:Close\")\n",
        "\n",
        "print('Test Statistic: %f' % result[0])\n",
        "\n",
        "print('p-value: %f' % result[1])\n",
        "\n",
        "print('Critical Values:')\n",
        "\n",
        "for key, value in result[4].items():\n",
        "    print('\\t%s: %.3f' % (key, value))\n",
        "if result[0] < result[4][\"5%\"]:\n",
        "    print (\"Reject H0 - Time Series is Stationary\")\n",
        "else:\n",
        "    print (\"Failed to Reject H0 - Time Series is Non-Stationary\")"
      ],
      "metadata": {
        "colab": {
          "base_uri": "https://localhost:8080/"
        },
        "id": "nlwhRkir6ovO",
        "outputId": "0bde5410-a063-42db-81e0-03521723a2d7"
      },
      "execution_count": null,
      "outputs": [
        {
          "output_type": "stream",
          "name": "stdout",
          "text": [
            "Dickey-Fuller test for feature:Close\n",
            "Test Statistic: -0.501972\n",
            "p-value: 0.891631\n",
            "Critical Values:\n",
            "\t1%: -3.457\n",
            "\t5%: -2.873\n",
            "\t10%: -2.573\n",
            "Failed to Reject H0 - Time Series is Non-Stationary\n"
          ]
        }
      ]
    },
    {
      "cell_type": "markdown",
      "source": [
        "## Mitigating the problem of non-stationary"
      ],
      "metadata": {
        "id": "buJfYCvU9SFT"
      }
    },
    {
      "cell_type": "code",
      "source": [
        "df['Close_diff'] = df['Close'].diff()\n",
        "df['Open_diff'] = df['Open'].diff()\n",
        "df['Low_diff'] = df['Low'].diff()\n",
        "df['High_diff'] = df['High'].diff()"
      ],
      "metadata": {
        "id": "6IKg3Fbg6swh"
      },
      "execution_count": null,
      "outputs": []
    },
    {
      "cell_type": "code",
      "source": [
        "df = df.dropna()"
      ],
      "metadata": {
        "id": "X9kPjJkm8nui"
      },
      "execution_count": null,
      "outputs": []
    },
    {
      "cell_type": "code",
      "source": [
        "df.shape"
      ],
      "metadata": {
        "colab": {
          "base_uri": "https://localhost:8080/"
        },
        "id": "MDRZQBvd-hZE",
        "outputId": "c379c766-c2a5-4da0-ab45-3f5495cdb7ec"
      },
      "execution_count": null,
      "outputs": [
        {
          "output_type": "execute_result",
          "data": {
            "text/plain": [
              "(251, 9)"
            ]
          },
          "metadata": {},
          "execution_count": 16
        }
      ]
    },
    {
      "cell_type": "code",
      "source": [
        "data_uti=df[['Date','Open_diff','Close_diff','Low_diff','High_diff']]"
      ],
      "metadata": {
        "id": "4Q99vwi2Y3wK"
      },
      "execution_count": null,
      "outputs": []
    },
    {
      "cell_type": "code",
      "source": [
        "data_uti[:2]"
      ],
      "metadata": {
        "colab": {
          "base_uri": "https://localhost:8080/",
          "height": 112
        },
        "id": "S08dJhgkpABM",
        "outputId": "505858d3-119b-4516-ac2c-7b891f0f5e91"
      },
      "execution_count": null,
      "outputs": [
        {
          "output_type": "execute_result",
          "data": {
            "text/plain": [
              "        Date  Open_diff  Close_diff  Low_diff  High_diff\n",
              "1 2019-12-30     240.12      -76.30     52.49     117.34\n",
              "2 2019-12-27      20.58      183.12    180.00      36.97"
            ],
            "text/html": [
              "\n",
              "  <div id=\"df-0b21e847-4c80-45c7-b613-a14504e7b760\">\n",
              "    <div class=\"colab-df-container\">\n",
              "      <div>\n",
              "<style scoped>\n",
              "    .dataframe tbody tr th:only-of-type {\n",
              "        vertical-align: middle;\n",
              "    }\n",
              "\n",
              "    .dataframe tbody tr th {\n",
              "        vertical-align: top;\n",
              "    }\n",
              "\n",
              "    .dataframe thead th {\n",
              "        text-align: right;\n",
              "    }\n",
              "</style>\n",
              "<table border=\"1\" class=\"dataframe\">\n",
              "  <thead>\n",
              "    <tr style=\"text-align: right;\">\n",
              "      <th></th>\n",
              "      <th>Date</th>\n",
              "      <th>Open_diff</th>\n",
              "      <th>Close_diff</th>\n",
              "      <th>Low_diff</th>\n",
              "      <th>High_diff</th>\n",
              "    </tr>\n",
              "  </thead>\n",
              "  <tbody>\n",
              "    <tr>\n",
              "      <th>1</th>\n",
              "      <td>2019-12-30</td>\n",
              "      <td>240.12</td>\n",
              "      <td>-76.30</td>\n",
              "      <td>52.49</td>\n",
              "      <td>117.34</td>\n",
              "    </tr>\n",
              "    <tr>\n",
              "      <th>2</th>\n",
              "      <td>2019-12-27</td>\n",
              "      <td>20.58</td>\n",
              "      <td>183.12</td>\n",
              "      <td>180.00</td>\n",
              "      <td>36.97</td>\n",
              "    </tr>\n",
              "  </tbody>\n",
              "</table>\n",
              "</div>\n",
              "      <button class=\"colab-df-convert\" onclick=\"convertToInteractive('df-0b21e847-4c80-45c7-b613-a14504e7b760')\"\n",
              "              title=\"Convert this dataframe to an interactive table.\"\n",
              "              style=\"display:none;\">\n",
              "        \n",
              "  <svg xmlns=\"http://www.w3.org/2000/svg\" height=\"24px\"viewBox=\"0 0 24 24\"\n",
              "       width=\"24px\">\n",
              "    <path d=\"M0 0h24v24H0V0z\" fill=\"none\"/>\n",
              "    <path d=\"M18.56 5.44l.94 2.06.94-2.06 2.06-.94-2.06-.94-.94-2.06-.94 2.06-2.06.94zm-11 1L8.5 8.5l.94-2.06 2.06-.94-2.06-.94L8.5 2.5l-.94 2.06-2.06.94zm10 10l.94 2.06.94-2.06 2.06-.94-2.06-.94-.94-2.06-.94 2.06-2.06.94z\"/><path d=\"M17.41 7.96l-1.37-1.37c-.4-.4-.92-.59-1.43-.59-.52 0-1.04.2-1.43.59L10.3 9.45l-7.72 7.72c-.78.78-.78 2.05 0 2.83L4 21.41c.39.39.9.59 1.41.59.51 0 1.02-.2 1.41-.59l7.78-7.78 2.81-2.81c.8-.78.8-2.07 0-2.86zM5.41 20L4 18.59l7.72-7.72 1.47 1.35L5.41 20z\"/>\n",
              "  </svg>\n",
              "      </button>\n",
              "      \n",
              "  <style>\n",
              "    .colab-df-container {\n",
              "      display:flex;\n",
              "      flex-wrap:wrap;\n",
              "      gap: 12px;\n",
              "    }\n",
              "\n",
              "    .colab-df-convert {\n",
              "      background-color: #E8F0FE;\n",
              "      border: none;\n",
              "      border-radius: 50%;\n",
              "      cursor: pointer;\n",
              "      display: none;\n",
              "      fill: #1967D2;\n",
              "      height: 32px;\n",
              "      padding: 0 0 0 0;\n",
              "      width: 32px;\n",
              "    }\n",
              "\n",
              "    .colab-df-convert:hover {\n",
              "      background-color: #E2EBFA;\n",
              "      box-shadow: 0px 1px 2px rgba(60, 64, 67, 0.3), 0px 1px 3px 1px rgba(60, 64, 67, 0.15);\n",
              "      fill: #174EA6;\n",
              "    }\n",
              "\n",
              "    [theme=dark] .colab-df-convert {\n",
              "      background-color: #3B4455;\n",
              "      fill: #D2E3FC;\n",
              "    }\n",
              "\n",
              "    [theme=dark] .colab-df-convert:hover {\n",
              "      background-color: #434B5C;\n",
              "      box-shadow: 0px 1px 3px 1px rgba(0, 0, 0, 0.15);\n",
              "      filter: drop-shadow(0px 1px 2px rgba(0, 0, 0, 0.3));\n",
              "      fill: #FFFFFF;\n",
              "    }\n",
              "  </style>\n",
              "\n",
              "      <script>\n",
              "        const buttonEl =\n",
              "          document.querySelector('#df-0b21e847-4c80-45c7-b613-a14504e7b760 button.colab-df-convert');\n",
              "        buttonEl.style.display =\n",
              "          google.colab.kernel.accessAllowed ? 'block' : 'none';\n",
              "\n",
              "        async function convertToInteractive(key) {\n",
              "          const element = document.querySelector('#df-0b21e847-4c80-45c7-b613-a14504e7b760');\n",
              "          const dataTable =\n",
              "            await google.colab.kernel.invokeFunction('convertToInteractive',\n",
              "                                                     [key], {});\n",
              "          if (!dataTable) return;\n",
              "\n",
              "          const docLinkHtml = 'Like what you see? Visit the ' +\n",
              "            '<a target=\"_blank\" href=https://colab.research.google.com/notebooks/data_table.ipynb>data table notebook</a>'\n",
              "            + ' to learn more about interactive tables.';\n",
              "          element.innerHTML = '';\n",
              "          dataTable['output_type'] = 'display_data';\n",
              "          await google.colab.output.renderOutput(dataTable, element);\n",
              "          const docLink = document.createElement('div');\n",
              "          docLink.innerHTML = docLinkHtml;\n",
              "          element.appendChild(docLink);\n",
              "        }\n",
              "      </script>\n",
              "    </div>\n",
              "  </div>\n",
              "  "
            ]
          },
          "metadata": {},
          "execution_count": 18
        }
      ]
    },
    {
      "cell_type": "code",
      "source": [
        "data_uti.rename(\n",
        "    columns={\"Open_diff\": \"Open\", \"Close_diff\": \"Close\",\"High_diff\":\"High\",\"Low_diff\": \"Low\"},\n",
        "    inplace=True,\n",
        ")"
      ],
      "metadata": {
        "id": "vdCnEOvqZIF_"
      },
      "execution_count": null,
      "outputs": []
    },
    {
      "cell_type": "code",
      "source": [
        "data_uti=data_uti.reset_index(drop=True)\n",
        "data_uti[:2]"
      ],
      "metadata": {
        "colab": {
          "base_uri": "https://localhost:8080/",
          "height": 112
        },
        "id": "al3HhFO9Zxbe",
        "outputId": "269cb158-213e-4506-aa9a-a0f4d1c52712"
      },
      "execution_count": null,
      "outputs": [
        {
          "output_type": "execute_result",
          "data": {
            "text/plain": [
              "        Date    Open   Close     Low    High\n",
              "0 2019-12-30  240.12  -76.30   52.49  117.34\n",
              "1 2019-12-27   20.58  183.12  180.00   36.97"
            ],
            "text/html": [
              "\n",
              "  <div id=\"df-2963022b-84b2-41d6-a7c6-eff003511d81\">\n",
              "    <div class=\"colab-df-container\">\n",
              "      <div>\n",
              "<style scoped>\n",
              "    .dataframe tbody tr th:only-of-type {\n",
              "        vertical-align: middle;\n",
              "    }\n",
              "\n",
              "    .dataframe tbody tr th {\n",
              "        vertical-align: top;\n",
              "    }\n",
              "\n",
              "    .dataframe thead th {\n",
              "        text-align: right;\n",
              "    }\n",
              "</style>\n",
              "<table border=\"1\" class=\"dataframe\">\n",
              "  <thead>\n",
              "    <tr style=\"text-align: right;\">\n",
              "      <th></th>\n",
              "      <th>Date</th>\n",
              "      <th>Open</th>\n",
              "      <th>Close</th>\n",
              "      <th>Low</th>\n",
              "      <th>High</th>\n",
              "    </tr>\n",
              "  </thead>\n",
              "  <tbody>\n",
              "    <tr>\n",
              "      <th>0</th>\n",
              "      <td>2019-12-30</td>\n",
              "      <td>240.12</td>\n",
              "      <td>-76.30</td>\n",
              "      <td>52.49</td>\n",
              "      <td>117.34</td>\n",
              "    </tr>\n",
              "    <tr>\n",
              "      <th>1</th>\n",
              "      <td>2019-12-27</td>\n",
              "      <td>20.58</td>\n",
              "      <td>183.12</td>\n",
              "      <td>180.00</td>\n",
              "      <td>36.97</td>\n",
              "    </tr>\n",
              "  </tbody>\n",
              "</table>\n",
              "</div>\n",
              "      <button class=\"colab-df-convert\" onclick=\"convertToInteractive('df-2963022b-84b2-41d6-a7c6-eff003511d81')\"\n",
              "              title=\"Convert this dataframe to an interactive table.\"\n",
              "              style=\"display:none;\">\n",
              "        \n",
              "  <svg xmlns=\"http://www.w3.org/2000/svg\" height=\"24px\"viewBox=\"0 0 24 24\"\n",
              "       width=\"24px\">\n",
              "    <path d=\"M0 0h24v24H0V0z\" fill=\"none\"/>\n",
              "    <path d=\"M18.56 5.44l.94 2.06.94-2.06 2.06-.94-2.06-.94-.94-2.06-.94 2.06-2.06.94zm-11 1L8.5 8.5l.94-2.06 2.06-.94-2.06-.94L8.5 2.5l-.94 2.06-2.06.94zm10 10l.94 2.06.94-2.06 2.06-.94-2.06-.94-.94-2.06-.94 2.06-2.06.94z\"/><path d=\"M17.41 7.96l-1.37-1.37c-.4-.4-.92-.59-1.43-.59-.52 0-1.04.2-1.43.59L10.3 9.45l-7.72 7.72c-.78.78-.78 2.05 0 2.83L4 21.41c.39.39.9.59 1.41.59.51 0 1.02-.2 1.41-.59l7.78-7.78 2.81-2.81c.8-.78.8-2.07 0-2.86zM5.41 20L4 18.59l7.72-7.72 1.47 1.35L5.41 20z\"/>\n",
              "  </svg>\n",
              "      </button>\n",
              "      \n",
              "  <style>\n",
              "    .colab-df-container {\n",
              "      display:flex;\n",
              "      flex-wrap:wrap;\n",
              "      gap: 12px;\n",
              "    }\n",
              "\n",
              "    .colab-df-convert {\n",
              "      background-color: #E8F0FE;\n",
              "      border: none;\n",
              "      border-radius: 50%;\n",
              "      cursor: pointer;\n",
              "      display: none;\n",
              "      fill: #1967D2;\n",
              "      height: 32px;\n",
              "      padding: 0 0 0 0;\n",
              "      width: 32px;\n",
              "    }\n",
              "\n",
              "    .colab-df-convert:hover {\n",
              "      background-color: #E2EBFA;\n",
              "      box-shadow: 0px 1px 2px rgba(60, 64, 67, 0.3), 0px 1px 3px 1px rgba(60, 64, 67, 0.15);\n",
              "      fill: #174EA6;\n",
              "    }\n",
              "\n",
              "    [theme=dark] .colab-df-convert {\n",
              "      background-color: #3B4455;\n",
              "      fill: #D2E3FC;\n",
              "    }\n",
              "\n",
              "    [theme=dark] .colab-df-convert:hover {\n",
              "      background-color: #434B5C;\n",
              "      box-shadow: 0px 1px 3px 1px rgba(0, 0, 0, 0.15);\n",
              "      filter: drop-shadow(0px 1px 2px rgba(0, 0, 0, 0.3));\n",
              "      fill: #FFFFFF;\n",
              "    }\n",
              "  </style>\n",
              "\n",
              "      <script>\n",
              "        const buttonEl =\n",
              "          document.querySelector('#df-2963022b-84b2-41d6-a7c6-eff003511d81 button.colab-df-convert');\n",
              "        buttonEl.style.display =\n",
              "          google.colab.kernel.accessAllowed ? 'block' : 'none';\n",
              "\n",
              "        async function convertToInteractive(key) {\n",
              "          const element = document.querySelector('#df-2963022b-84b2-41d6-a7c6-eff003511d81');\n",
              "          const dataTable =\n",
              "            await google.colab.kernel.invokeFunction('convertToInteractive',\n",
              "                                                     [key], {});\n",
              "          if (!dataTable) return;\n",
              "\n",
              "          const docLinkHtml = 'Like what you see? Visit the ' +\n",
              "            '<a target=\"_blank\" href=https://colab.research.google.com/notebooks/data_table.ipynb>data table notebook</a>'\n",
              "            + ' to learn more about interactive tables.';\n",
              "          element.innerHTML = '';\n",
              "          dataTable['output_type'] = 'display_data';\n",
              "          await google.colab.output.renderOutput(dataTable, element);\n",
              "          const docLink = document.createElement('div');\n",
              "          docLink.innerHTML = docLinkHtml;\n",
              "          element.appendChild(docLink);\n",
              "        }\n",
              "      </script>\n",
              "    </div>\n",
              "  </div>\n",
              "  "
            ]
          },
          "metadata": {},
          "execution_count": 20
        }
      ]
    },
    {
      "cell_type": "code",
      "source": [
        "plt.plot(data_uti['Date'], data_uti['High'])\n",
        "\n",
        "# Step 4: Customize the plot (optional)\n",
        "plt.xlabel('Date')\n",
        "plt.ylabel('Stationary High Price')\n",
        "plt.title('Time Series Data')\n",
        "plt.grid(True)\n",
        "\n",
        "# Step 5: Display the plot\n",
        "plt.show()"
      ],
      "metadata": {
        "colab": {
          "base_uri": "https://localhost:8080/",
          "height": 472
        },
        "id": "B6Tas2h8lrtR",
        "outputId": "3d2c1d56-734c-4395-e8d5-f8e6eea554b8"
      },
      "execution_count": null,
      "outputs": [
        {
          "output_type": "display_data",
          "data": {
            "text/plain": [
              "<Figure size 640x480 with 1 Axes>"
            ],
            "image/png": "[encoded data removed]"
          },
          "metadata": {}
        }
      ]
    },
    {
      "cell_type": "markdown",
      "source": [
        "##Dickey-Fuller Test"
      ],
      "metadata": {
        "id": "fQtGtCpBmMBX"
      }
    },
    {
      "cell_type": "code",
      "source": [
        "result = adfuller(data_uti['Close'].values)\n",
        "#Extracting the values from the results:\n",
        "print(\"Dickey-Fuller test for feature:Close after Differencing\")\n",
        "\n",
        "print('Test Statistic: %f' % result[0])\n",
        "\n",
        "print('p-value: %f' % result[1])\n",
        "\n",
        "print('Critical Values:')\n",
        "\n",
        "for key, value in result[4].items():\n",
        "    print('\\t%s: %.3f' % (key, value))\n",
        "if result[0] < result[4][\"5%\"]:\n",
        "    print (\"Reject H0 - Time Series is Stationary\")\n",
        "else:\n",
        "    print (\"Failed to Reject H0 - Time Series is Non-Stationary\")"
      ],
      "metadata": {
        "colab": {
          "base_uri": "https://localhost:8080/"
        },
        "id": "gpNqepsd8c2o",
        "outputId": "ce3587a0-2f60-47ac-8eb5-35cdf6ec2ce4"
      },
      "execution_count": null,
      "outputs": [
        {
          "output_type": "stream",
          "name": "stdout",
          "text": [
            "Dickey-Fuller test for feature:Close after Differencing\n",
            "Test Statistic: -17.166293\n",
            "p-value: 0.000000\n",
            "Critical Values:\n",
            "\t1%: -3.457\n",
            "\t5%: -2.873\n",
            "\t10%: -2.573\n",
            "Reject H0 - Time Series is Stationary\n"
          ]
        }
      ]
    },
    {
      "cell_type": "code",
      "source": [
        "result = adfuller(data_uti['Open'].values)\n",
        "#Extracting the values from the results:\n",
        "print(\"Dickey-Fuller test for feature:Open after Differencing\")\n",
        "\n",
        "print('Test Statistic: %f' % result[0])\n",
        "\n",
        "print('p-value: %f' % result[1])\n",
        "\n",
        "print('Critical Values:')\n",
        "\n",
        "for key, value in result[4].items():\n",
        "    print('\\t%s: %.3f' % (key, value))\n",
        "if result[0] < result[4][\"5%\"]:\n",
        "    print (\"Reject H0 - Time Series is Stationary\")\n",
        "else:\n",
        "    print (\"Failed to Reject H0 - Time Series is Non-Stationary\")"
      ],
      "metadata": {
        "colab": {
          "base_uri": "https://localhost:8080/"
        },
        "id": "P8lm7e278mLK",
        "outputId": "5d2e4fc3-e125-486f-ac4f-d61f717427e8"
      },
      "execution_count": null,
      "outputs": [
        {
          "output_type": "stream",
          "name": "stdout",
          "text": [
            "Dickey-Fuller test for feature:Open after Differencing\n",
            "Test Statistic: -15.060297\n",
            "p-value: 0.000000\n",
            "Critical Values:\n",
            "\t1%: -3.457\n",
            "\t5%: -2.873\n",
            "\t10%: -2.573\n",
            "Reject H0 - Time Series is Stationary\n"
          ]
        }
      ]
    },
    {
      "cell_type": "code",
      "source": [
        "result = adfuller(data_uti['Low'].values)\n",
        "#Extracting the values from the results:\n",
        "print(\"Dickey-Fuller test for feature:Low after Differencing\")\n",
        "\n",
        "print('Test Statistic: %f' % result[0])\n",
        "\n",
        "print('p-value: %f' % result[1])\n",
        "\n",
        "print('Critical Values:')\n",
        "\n",
        "for key, value in result[4].items():\n",
        "    print('\\t%s: %.3f' % (key, value))\n",
        "if result[0] < result[4][\"5%\"]:\n",
        "    print (\"Reject H0 - Time Series is Stationary\")\n",
        "else:\n",
        "    print (\"Failed to Reject H0 - Time Series is Non-Stationary\")"
      ],
      "metadata": {
        "colab": {
          "base_uri": "https://localhost:8080/"
        },
        "id": "pE-MKTdp-8lM",
        "outputId": "7fa46554-ec41-4c9f-b982-6e4ab935aed9"
      },
      "execution_count": null,
      "outputs": [
        {
          "output_type": "stream",
          "name": "stdout",
          "text": [
            "Dickey-Fuller test for feature:Low after Differencing\n",
            "Test Statistic: -14.791825\n",
            "p-value: 0.000000\n",
            "Critical Values:\n",
            "\t1%: -3.457\n",
            "\t5%: -2.873\n",
            "\t10%: -2.573\n",
            "Reject H0 - Time Series is Stationary\n"
          ]
        }
      ]
    },
    {
      "cell_type": "code",
      "source": [
        "result = adfuller(data_uti['High'].values)\n",
        "#Extracting the values from the results:\n",
        "print(\"Dickey-Fuller test for feature:High after Differencing\")\n",
        "\n",
        "print('Test Statistic: %f' % result[0])\n",
        "\n",
        "print('p-value: %f' % result[1])\n",
        "\n",
        "print('Critical Values:')\n",
        "\n",
        "for key, value in result[4].items():\n",
        "    print('\\t%s: %.3f' % (key, value))\n",
        "if result[0] < result[4][\"5%\"]:\n",
        "    print (\"Reject H0 - Time Series is Stationary\")\n",
        "else:\n",
        "    print (\"Failed to Reject H0 - Time Series is Non-Stationary\")"
      ],
      "metadata": {
        "colab": {
          "base_uri": "https://localhost:8080/"
        },
        "id": "BdHJjzQS--ep",
        "outputId": "e4800ff7-a3bb-443a-fde0-7bd597a227d1"
      },
      "execution_count": null,
      "outputs": [
        {
          "output_type": "stream",
          "name": "stdout",
          "text": [
            "Dickey-Fuller test for feature:High after Differencing\n",
            "Test Statistic: -15.087605\n",
            "p-value: 0.000000\n",
            "Critical Values:\n",
            "\t1%: -3.457\n",
            "\t5%: -2.873\n",
            "\t10%: -2.573\n",
            "Reject H0 - Time Series is Stationary\n"
          ]
        }
      ]
    },
    {
      "cell_type": "markdown",
      "source": [
        "##Johansen Cointegration Test"
      ],
      "metadata": {
        "id": "fzSpa_xlmR8i"
      }
    },
    {
      "cell_type": "code",
      "source": [
        "result = coint_johansen(data_uti.drop('Date',axis=1), det_order=0, k_ar_diff=1)"
      ],
      "metadata": {
        "id": "6hkeSkiNACgX"
      },
      "execution_count": null,
      "outputs": []
    },
    {
      "cell_type": "code",
      "source": [
        "trace_statistic = result.lr1\n",
        "critical_values = result.cvt[:, 1]  # 1 corresponds to the 5% critical value"
      ],
      "metadata": {
        "id": "y7oieTqiAF12"
      },
      "execution_count": null,
      "outputs": []
    },
    {
      "cell_type": "code",
      "source": [
        "results_df = pd.DataFrame({'Trace Statistic': trace_statistic, 'Critical Value (5%)': critical_values})\n",
        "results_df.index.name = 'Variable'\n",
        "results_df.index = data_uti.drop('Date',axis=1).columns\n",
        "\n",
        "# Print the formatted results\n",
        "print(results_df)"
      ],
      "metadata": {
        "colab": {
          "base_uri": "https://localhost:8080/"
        },
        "id": "RQ2-To9_AIkV",
        "outputId": "d33eee34-ce95-4c10-9880-edb751721e45"
      },
      "execution_count": null,
      "outputs": [
        {
          "output_type": "stream",
          "name": "stdout",
          "text": [
            "       Trace Statistic  Critical Value (5%)\n",
            "Open        847.660587              47.8545\n",
            "Close       536.780572              29.7961\n",
            "Low         293.735455              15.4943\n",
            "High         75.477789               3.8415\n"
          ]
        }
      ]
    },
    {
      "cell_type": "code",
      "source": [
        "plt.plot(data_uti['Date'], data_uti['High'])\n",
        "\n",
        "# Step 4: Customize the plot (optional)\n",
        "plt.xlabel('Date')\n",
        "plt.ylabel('Stationary High Price')\n",
        "plt.title('Time Series Data')\n",
        "plt.grid(True)\n",
        "\n",
        "# Step 5: Display the plot\n",
        "plt.show()"
      ],
      "metadata": {
        "colab": {
          "base_uri": "https://localhost:8080/",
          "height": 472
        },
        "id": "OGs29L52rIsD",
        "outputId": "e24d4f35-63f9-48a8-ec86-b0f85b22f2c3"
      },
      "execution_count": null,
      "outputs": [
        {
          "output_type": "display_data",
          "data": {
            "text/plain": [
              "<Figure size 640x480 with 1 Axes>"
            ],
            "image/png": "[encoded data removed]"
          },
          "metadata": {}
        }
      ]
    },
    {
      "cell_type": "markdown",
      "source": [
        "##Splitting data"
      ],
      "metadata": {
        "id": "FoPBOQLnY04P"
      }
    },
    {
      "cell_type": "code",
      "source": [
        "split_date = pd.to_datetime('2019-11-01')\n",
        "\n",
        "# Split the dataset into train and test\n",
        "train_data = data_uti[data_uti['Date'] <= split_date]\n",
        "test_data = data_uti[data_uti['Date'] > split_date]\n",
        "\n",
        "# Optional: Reset the index\n",
        "train_data = train_data.reset_index(drop=True)\n",
        "test_data = test_data.reset_index(drop=True)"
      ],
      "metadata": {
        "id": "G0MYAw8-fh-P"
      },
      "execution_count": null,
      "outputs": []
    },
    {
      "cell_type": "markdown",
      "source": [
        "##Training"
      ],
      "metadata": {
        "id": "2oNMjdxFgNLh"
      }
    },
    {
      "cell_type": "markdown",
      "source": [
        "#####***Open***"
      ],
      "metadata": {
        "id": "rZtePlaJDQSw"
      }
    },
    {
      "cell_type": "code",
      "source": [
        "target_variable_open = 'Open'\n",
        "\n",
        "# Extract the time series data for the target variable\n",
        "ts_open = train_data[target_variable_open]\n",
        "\n",
        "# Apply auto_arima to find the best ARIMA model\n",
        "stepwise_model_open = auto_arima(ts_open, trace=True,\n",
        "                            error_action='ignore', suppress_warnings=True, stepwise=True)\n",
        "\n",
        "# Print the summary of the best model\n",
        "print(stepwise_model_open.summary())"
      ],
      "metadata": {
        "colab": {
          "base_uri": "https://localhost:8080/"
        },
        "id": "Ez5nQXRdBklH",
        "outputId": "4f59d880-e8b6-43a2-b955-afbc8bbeef16"
      },
      "execution_count": null,
      "outputs": [
        {
          "output_type": "stream",
          "name": "stdout",
          "text": [
            "Performing stepwise search to minimize aic\n",
            " ARIMA(2,0,2)(0,0,0)[0] intercept   : AIC=2815.726, Time=0.45 sec\n",
            " ARIMA(0,0,0)(0,0,0)[0] intercept   : AIC=2809.613, Time=0.02 sec\n",
            " ARIMA(1,0,0)(0,0,0)[0] intercept   : AIC=2810.700, Time=0.03 sec\n",
            " ARIMA(0,0,1)(0,0,0)[0] intercept   : AIC=2810.732, Time=0.04 sec\n",
            " ARIMA(0,0,0)(0,0,0)[0]             : AIC=2810.315, Time=0.02 sec\n",
            " ARIMA(1,0,1)(0,0,0)[0] intercept   : AIC=2812.690, Time=0.12 sec\n",
            "\n",
            "Best model:  ARIMA(0,0,0)(0,0,0)[0] intercept\n",
            "Total fit time: 0.711 seconds\n",
            "                               SARIMAX Results                                \n",
            "==============================================================================\n",
            "Dep. Variable:                      y   No. Observations:                  212\n",
            "Model:                        SARIMAX   Log Likelihood               -1402.807\n",
            "Date:                Fri, 16 Jun 2023   AIC                           2809.613\n",
            "Time:                        10:13:23   BIC                           2816.327\n",
            "Sample:                             0   HQIC                          2812.327\n",
            "                                - 212                                         \n",
            "Covariance Type:                  opg                                         \n",
            "==============================================================================\n",
            "                 coef    std err          z      P>|z|      [0.025      0.975]\n",
            "------------------------------------------------------------------------------\n",
            "intercept    -20.4880     12.518     -1.637      0.102     -45.023       4.047\n",
            "sigma2      3.273e+04   2726.407     12.006      0.000    2.74e+04    3.81e+04\n",
            "===================================================================================\n",
            "Ljung-Box (L1) (Q):                   0.93   Jarque-Bera (JB):                 6.53\n",
            "Prob(Q):                              0.33   Prob(JB):                         0.04\n",
            "Heteroskedasticity (H):               0.60   Skew:                             0.20\n",
            "Prob(H) (two-sided):                  0.03   Kurtosis:                         3.76\n",
            "===================================================================================\n",
            "\n",
            "Warnings:\n",
            "[1] Covariance matrix calculated using the outer product of gradients (complex-step).\n"
          ]
        }
      ]
    },
    {
      "cell_type": "markdown",
      "source": [
        "#####***Close***"
      ],
      "metadata": {
        "id": "uiy7py9oDR2l"
      }
    },
    {
      "cell_type": "code",
      "source": [
        "target_variable_close = 'Close'\n",
        "\n",
        "# Extract the time series data for the target variable\n",
        "ts_close = train_data[target_variable_close]\n",
        "\n",
        "# Apply auto_arima to find the best ARIMA model\n",
        "stepwise_model_close = auto_arima(ts_close, trace=True,\n",
        "                            error_action='ignore', suppress_warnings=True, stepwise=True)\n",
        "\n",
        "# Print the summary of the best model\n",
        "print(stepwise_model_close.summary())"
      ],
      "metadata": {
        "colab": {
          "base_uri": "https://localhost:8080/"
        },
        "id": "3NvDQ8-SCx4n",
        "outputId": "117b1fe2-2d70-4915-e73b-6ac2d571b86c"
      },
      "execution_count": null,
      "outputs": [
        {
          "output_type": "stream",
          "name": "stdout",
          "text": [
            "Performing stepwise search to minimize aic\n",
            " ARIMA(2,0,2)(0,0,0)[0] intercept   : AIC=inf, Time=0.89 sec\n",
            " ARIMA(0,0,0)(0,0,0)[0] intercept   : AIC=2878.028, Time=0.03 sec\n",
            " ARIMA(1,0,0)(0,0,0)[0] intercept   : AIC=2876.933, Time=0.05 sec\n",
            " ARIMA(0,0,1)(0,0,0)[0] intercept   : AIC=2877.040, Time=0.09 sec\n",
            " ARIMA(0,0,0)(0,0,0)[0]             : AIC=2877.788, Time=0.03 sec\n",
            " ARIMA(2,0,0)(0,0,0)[0] intercept   : AIC=2878.935, Time=0.10 sec\n",
            " ARIMA(1,0,1)(0,0,0)[0] intercept   : AIC=2878.943, Time=0.15 sec\n",
            " ARIMA(2,0,1)(0,0,0)[0] intercept   : AIC=2880.918, Time=0.41 sec\n",
            " ARIMA(1,0,0)(0,0,0)[0]             : AIC=2877.226, Time=0.05 sec\n",
            "\n",
            "Best model:  ARIMA(1,0,0)(0,0,0)[0] intercept\n",
            "Total fit time: 1.856 seconds\n",
            "                               SARIMAX Results                                \n",
            "==============================================================================\n",
            "Dep. Variable:                      y   No. Observations:                  212\n",
            "Model:               SARIMAX(1, 0, 0)   Log Likelihood               -1435.467\n",
            "Date:                Fri, 16 Jun 2023   AIC                           2876.933\n",
            "Time:                        10:13:25   BIC                           2887.003\n",
            "Sample:                             0   HQIC                          2881.003\n",
            "                                - 212                                         \n",
            "Covariance Type:                  opg                                         \n",
            "==============================================================================\n",
            "                 coef    std err          z      P>|z|      [0.025      0.975]\n",
            "------------------------------------------------------------------------------\n",
            "intercept    -21.7616     15.838     -1.374      0.169     -52.803       9.280\n",
            "ar.L1         -0.1230      0.064     -1.907      0.057      -0.249       0.003\n",
            "sigma2      4.471e+04   3309.566     13.509      0.000    3.82e+04    5.12e+04\n",
            "===================================================================================\n",
            "Ljung-Box (L1) (Q):                   0.00   Jarque-Bera (JB):                50.23\n",
            "Prob(Q):                              1.00   Prob(JB):                         0.00\n",
            "Heteroskedasticity (H):               0.65   Skew:                             0.59\n",
            "Prob(H) (two-sided):                  0.07   Kurtosis:                         5.07\n",
            "===================================================================================\n",
            "\n",
            "Warnings:\n",
            "[1] Covariance matrix calculated using the outer product of gradients (complex-step).\n"
          ]
        }
      ]
    },
    {
      "cell_type": "markdown",
      "source": [
        "#####***High***"
      ],
      "metadata": {
        "id": "YOGm_iGGDT7b"
      }
    },
    {
      "cell_type": "code",
      "source": [
        "target_variable_high = 'High'\n",
        "\n",
        "# Extract the time series data for the target variable\n",
        "ts_high = train_data[target_variable_high]\n",
        "\n",
        "# Apply auto_arima to find the best ARIMA model\n",
        "stepwise_model_high = auto_arima(ts_high, trace=True,\n",
        "                            error_action='ignore', suppress_warnings=True, stepwise=True)\n",
        "\n",
        "# Print the summary of the best model\n",
        "print(stepwise_model_high.summary())"
      ],
      "metadata": {
        "colab": {
          "base_uri": "https://localhost:8080/"
        },
        "id": "UePBEuQYDHR-",
        "outputId": "d7e30247-8f49-4dfb-def3-33e925a47ddd"
      },
      "execution_count": null,
      "outputs": [
        {
          "output_type": "stream",
          "name": "stdout",
          "text": [
            "Performing stepwise search to minimize aic\n",
            " ARIMA(2,0,2)(0,0,0)[0] intercept   : AIC=2809.861, Time=1.11 sec\n",
            " ARIMA(0,0,0)(0,0,0)[0] intercept   : AIC=2804.921, Time=0.04 sec\n",
            " ARIMA(1,0,0)(0,0,0)[0] intercept   : AIC=2806.179, Time=0.07 sec\n",
            " ARIMA(0,0,1)(0,0,0)[0] intercept   : AIC=2806.077, Time=0.30 sec\n",
            " ARIMA(0,0,0)(0,0,0)[0]             : AIC=2805.388, Time=0.03 sec\n",
            " ARIMA(1,0,1)(0,0,0)[0] intercept   : AIC=2805.861, Time=0.44 sec\n",
            "\n",
            "Best model:  ARIMA(0,0,0)(0,0,0)[0] intercept\n",
            "Total fit time: 2.033 seconds\n",
            "                               SARIMAX Results                                \n",
            "==============================================================================\n",
            "Dep. Variable:                      y   No. Observations:                  212\n",
            "Model:                        SARIMAX   Log Likelihood               -1400.460\n",
            "Date:                Fri, 16 Jun 2023   AIC                           2804.921\n",
            "Time:                        10:13:27   BIC                           2811.634\n",
            "Sample:                             0   HQIC                          2807.634\n",
            "                                - 212                                         \n",
            "Covariance Type:                  opg                                         \n",
            "==============================================================================\n",
            "                 coef    std err          z      P>|z|      [0.025      0.975]\n",
            "------------------------------------------------------------------------------\n",
            "intercept    -19.3590     12.667     -1.528      0.126     -44.185       5.467\n",
            "sigma2      3.202e+04   2607.360     12.279      0.000    2.69e+04    3.71e+04\n",
            "===================================================================================\n",
            "Ljung-Box (L1) (Q):                   0.75   Jarque-Bera (JB):                15.51\n",
            "Prob(Q):                              0.39   Prob(JB):                         0.00\n",
            "Heteroskedasticity (H):               0.57   Skew:                             0.42\n",
            "Prob(H) (two-sided):                  0.02   Kurtosis:                         4.02\n",
            "===================================================================================\n",
            "\n",
            "Warnings:\n",
            "[1] Covariance matrix calculated using the outer product of gradients (complex-step).\n"
          ]
        }
      ]
    },
    {
      "cell_type": "markdown",
      "source": [
        "####***Low***"
      ],
      "metadata": {
        "id": "C0KtEWw5DWd6"
      }
    },
    {
      "cell_type": "code",
      "source": [
        "target_variable_low = 'Low'\n",
        "\n",
        "# Extract the time series data for the target variable\n",
        "ts_low = train_data[target_variable_low]\n",
        "\n",
        "# Apply auto_arima to find the best ARIMA model\n",
        "stepwise_model_low = auto_arima(ts_low, trace=True,\n",
        "                            error_action='ignore', suppress_warnings=True, stepwise=True)\n",
        "\n",
        "# Print the summary of the best model\n",
        "print(stepwise_model_low.summary())"
      ],
      "metadata": {
        "colab": {
          "base_uri": "https://localhost:8080/"
        },
        "id": "Ql-VoXyDDLo7",
        "outputId": "401fde8d-2b22-4566-a36d-a2de83b587b7"
      },
      "execution_count": null,
      "outputs": [
        {
          "output_type": "stream",
          "name": "stdout",
          "text": [
            "Performing stepwise search to minimize aic\n",
            " ARIMA(2,0,2)(0,0,0)[0] intercept   : AIC=2859.402, Time=0.71 sec\n",
            " ARIMA(0,0,0)(0,0,0)[0] intercept   : AIC=2857.298, Time=0.05 sec\n",
            " ARIMA(1,0,0)(0,0,0)[0] intercept   : AIC=2858.646, Time=0.07 sec\n",
            " ARIMA(0,0,1)(0,0,0)[0] intercept   : AIC=2858.604, Time=0.08 sec\n",
            " ARIMA(0,0,0)(0,0,0)[0]             : AIC=2857.589, Time=0.03 sec\n",
            " ARIMA(1,0,1)(0,0,0)[0] intercept   : AIC=2855.402, Time=0.54 sec\n",
            " ARIMA(2,0,1)(0,0,0)[0] intercept   : AIC=2857.398, Time=0.50 sec\n",
            " ARIMA(1,0,2)(0,0,0)[0] intercept   : AIC=2857.398, Time=0.35 sec\n",
            " ARIMA(0,0,2)(0,0,0)[0] intercept   : AIC=2859.880, Time=0.14 sec\n",
            " ARIMA(2,0,0)(0,0,0)[0] intercept   : AIC=2860.195, Time=0.05 sec\n",
            " ARIMA(1,0,1)(0,0,0)[0]             : AIC=2855.530, Time=0.20 sec\n",
            "\n",
            "Best model:  ARIMA(1,0,1)(0,0,0)[0] intercept\n",
            "Total fit time: 2.749 seconds\n",
            "                               SARIMAX Results                                \n",
            "==============================================================================\n",
            "Dep. Variable:                      y   No. Observations:                  212\n",
            "Model:               SARIMAX(1, 0, 1)   Log Likelihood               -1423.701\n",
            "Date:                Fri, 16 Jun 2023   AIC                           2855.402\n",
            "Time:                        10:13:30   BIC                           2868.828\n",
            "Sample:                             0   HQIC                          2860.829\n",
            "                                - 212                                         \n",
            "Covariance Type:                  opg                                         \n",
            "==============================================================================\n",
            "                 coef    std err          z      P>|z|      [0.025      0.975]\n",
            "------------------------------------------------------------------------------\n",
            "intercept    -39.0442     28.247     -1.382      0.167     -94.407      16.319\n",
            "ar.L1         -0.8593      0.075    -11.445      0.000      -1.007      -0.712\n",
            "ma.L1          0.9469      0.054     17.533      0.000       0.841       1.053\n",
            "sigma2      3.982e+04   3281.764     12.133      0.000    3.34e+04    4.63e+04\n",
            "===================================================================================\n",
            "Ljung-Box (L1) (Q):                   0.00   Jarque-Bera (JB):                15.95\n",
            "Prob(Q):                              0.96   Prob(JB):                         0.00\n",
            "Heteroskedasticity (H):               0.54   Skew:                             0.41\n",
            "Prob(H) (two-sided):                  0.01   Kurtosis:                         4.06\n",
            "===================================================================================\n",
            "\n",
            "Warnings:\n",
            "[1] Covariance matrix calculated using the outer product of gradients (complex-step).\n"
          ]
        }
      ]
    },
    {
      "cell_type": "markdown",
      "source": [
        "##Final Model"
      ],
      "metadata": {
        "id": "EWCGrfgADehA"
      }
    },
    {
      "cell_type": "code",
      "source": [
        "target_variable_high = 'High'\n",
        "ts_high = train_data[target_variable_high]\n",
        "\n",
        "best_model_high= auto_arima(ts_high, start_p=0, d=1, start_q=0,\n",
        "           max_p=0, max_d=2, max_q=1, seasonal=False,\n",
        "           trace=True, suppress_warnings=True, stepwise=False)\n",
        "\n",
        "print(best_model_high.summary())"
      ],
      "metadata": {
        "colab": {
          "base_uri": "https://localhost:8080/"
        },
        "id": "Cusboma3O03d",
        "outputId": "096836a6-72a5-4da0-e3e5-95a559830810"
      },
      "execution_count": null,
      "outputs": [
        {
          "output_type": "stream",
          "name": "stdout",
          "text": [
            " ARIMA(0,1,0)(0,0,0)[0] intercept   : AIC=2924.648, Time=0.02 sec\n",
            " ARIMA(0,1,1)(0,0,0)[0] intercept   : AIC=inf, Time=0.09 sec\n",
            "\n",
            "Best model:  ARIMA(0,1,0)(0,0,0)[0] intercept\n",
            "Total fit time: 0.116 seconds\n",
            "                               SARIMAX Results                                \n",
            "==============================================================================\n",
            "Dep. Variable:                      y   No. Observations:                  212\n",
            "Model:               SARIMAX(0, 1, 0)   Log Likelihood               -1460.324\n",
            "Date:                Fri, 16 Jun 2023   AIC                           2924.648\n",
            "Time:                        10:13:30   BIC                           2931.352\n",
            "Sample:                             0   HQIC                          2927.358\n",
            "                                - 212                                         \n",
            "Covariance Type:                  opg                                         \n",
            "==============================================================================\n",
            "                 coef    std err          z      P>|z|      [0.025      0.975]\n",
            "------------------------------------------------------------------------------\n",
            "intercept      1.9300     16.886      0.114      0.909     -31.166      35.026\n",
            "sigma2      6.012e+04   5700.530     10.546      0.000    4.89e+04    7.13e+04\n",
            "===================================================================================\n",
            "Ljung-Box (L1) (Q):                  39.87   Jarque-Bera (JB):                 0.16\n",
            "Prob(Q):                              0.00   Prob(JB):                         0.92\n",
            "Heteroskedasticity (H):               0.64   Skew:                             0.04\n",
            "Prob(H) (two-sided):                  0.07   Kurtosis:                         3.11\n",
            "===================================================================================\n",
            "\n",
            "Warnings:\n",
            "[1] Covariance matrix calculated using the outer product of gradients (complex-step).\n"
          ]
        }
      ]
    },
    {
      "cell_type": "markdown",
      "source": [
        "## Forecasting"
      ],
      "metadata": {
        "id": "1CkYHuav9om5"
      }
    },
    {
      "cell_type": "code",
      "source": [
        "forecast=best_model_high.predict(n_periods=20, return_conf_int=True)"
      ],
      "metadata": {
        "id": "Z1KUtthAV1M0"
      },
      "execution_count": null,
      "outputs": []
    },
    {
      "cell_type": "code",
      "source": [
        "forecast"
      ],
      "metadata": {
        "colab": {
          "base_uri": "https://localhost:8080/"
        },
        "id": "Oxjwq9d2WDqE",
        "outputId": "c20b3d0f-8071-4f33-ec70-442ab593507a"
      },
      "execution_count": null,
      "outputs": [
        {
          "output_type": "execute_result",
          "data": {
            "text/plain": [
              "(212    239.01\n",
              " 213    240.94\n",
              " 214    242.87\n",
              " 215    244.80\n",
              " 216    246.73\n",
              " 217    248.66\n",
              " 218    250.59\n",
              " 219    252.52\n",
              " 220    254.45\n",
              " 221    256.38\n",
              " 222    258.31\n",
              " 223    260.24\n",
              " 224    262.17\n",
              " 225    264.10\n",
              " 226    266.03\n",
              " 227    267.96\n",
              " 228    269.89\n",
              " 229    271.82\n",
              " 230    273.75\n",
              " 231    275.68\n",
              " dtype: float64,\n",
              " array([[ -241.55142262,   719.57142262],\n",
              "        [ -438.67648142,   920.55648142],\n",
              "        [ -589.48680013,  1075.22680013],\n",
              "        [ -716.32284524,  1205.92284524],\n",
              "        [ -827.83800834,  1321.29800834],\n",
              "        [ -928.47027548,  1425.79027548],\n",
              "        [-1020.85601394,  1522.03601394],\n",
              "        [-1106.71296284,  1611.75296284],\n",
              "        [-1187.23426786,  1696.13426786],\n",
              "        [-1263.28865109,  1776.04865109],\n",
              "        [-1335.53192755,  1852.15192755],\n",
              "        [-1404.47360027,  1924.95360027],\n",
              "        [-1470.51885026,  1994.85885026],\n",
              "        [-1533.99619674,  2062.19619674],\n",
              "        [-1595.17638664,  2127.23638664],\n",
              "        [-1654.28569048,  2190.20569048],\n",
              "        [-1711.51550506,  2251.29550506],\n",
              "        [-1767.02944427,  2310.66944427],\n",
              "        [-1820.96867736,  2368.46867736],\n",
              "        [-1873.45601668,  2424.81601668]]))"
            ]
          },
          "metadata": {},
          "execution_count": 47
        }
      ]
    },
    {
      "cell_type": "code",
      "source": [
        "predicted_values = forecast[0]"
      ],
      "metadata": {
        "id": "JRXcH6VEWA8f"
      },
      "execution_count": null,
      "outputs": []
    },
    {
      "cell_type": "markdown",
      "source": [
        "##Evaluating"
      ],
      "metadata": {
        "id": "wZQldx929sxv"
      }
    },
    {
      "cell_type": "code",
      "source": [
        "rmse = np.sqrt(mean_squared_error(test_data['High'][:20], predicted_values))\n",
        "print(\"RMSE:\", rmse)"
      ],
      "metadata": {
        "colab": {
          "base_uri": "https://localhost:8080/"
        },
        "id": "q-rwPn24ipy0",
        "outputId": "e573384e-b020-4d32-a865-283a8236898e"
      },
      "execution_count": null,
      "outputs": [
        {
          "output_type": "stream",
          "name": "stdout",
          "text": [
            "RMSE: 331.23150930278473\n"
          ]
        }
      ]
    },
    {
      "cell_type": "markdown",
      "source": [
        "## Vizualizing the forecast"
      ],
      "metadata": {
        "id": "pSglrDHd9yjQ"
      }
    },
    {
      "cell_type": "code",
      "source": [
        "plt.plot(train_data['High'])\n",
        "plt.plot(predicted_values)\n",
        "\n",
        "# Step 4: Customize the plot (optional)\n",
        "plt.xlabel('Date')\n",
        "plt.ylabel('High')\n",
        "plt.title('Time Series Data')\n",
        "plt.grid(True)\n",
        "\n",
        "# Step 5: Display the plot\n",
        "plt.show()"
      ],
      "metadata": {
        "colab": {
          "base_uri": "https://localhost:8080/",
          "height": 472
        },
        "id": "rk-149usn3tS",
        "outputId": "5a498d02-33f1-40a9-eebd-fd093c0eef9b"
      },
      "execution_count": null,
      "outputs": [
        {
          "output_type": "display_data",
          "data": {
            "text/plain": [
              "<Figure size 640x480 with 1 Axes>"
            ],
            "image/png": "[encoded data removed]"
          },
          "metadata": {}
        }
      ]
    },
    {
      "cell_type": "code",
      "source": [],
      "metadata": {
        "id": "WPrJiMfv8NGv"
      },
      "execution_count": null,
      "outputs": []
    }
  ]
}